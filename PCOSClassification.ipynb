{
  "nbformat": 4,
  "nbformat_minor": 0,
  "metadata": {
    "colab": {
      "provenance": [],
      "authorship_tag": "ABX9TyOwJ5e9LcpJe759w5rGlG99",
      "include_colab_link": true
    },
    "kernelspec": {
      "name": "python3",
      "display_name": "Python 3"
    },
    "language_info": {
      "name": "python"
    }
  },
  "cells": [
    {
      "cell_type": "markdown",
      "metadata": {
        "id": "view-in-github",
        "colab_type": "text"
      },
      "source": [
        "<a href=\"https://colab.research.google.com/github/iTusharPaul/ML--Projects/blob/main/PCOSClassification.ipynb\" target=\"_parent\"><img src=\"https://colab.research.google.com/assets/colab-badge.svg\" alt=\"Open In Colab\"/></a>"
      ]
    },
    {
      "cell_type": "markdown",
      "source": [
        "#understanding the dataset\n",
        "\n"
      ],
      "metadata": {
        "id": "1u-UYCVjscWy"
      }
    },
    {
      "cell_type": "code",
      "execution_count": 44,
      "metadata": {
        "colab": {
          "base_uri": "https://localhost:8080/"
        },
        "id": "Ed_GBYxagAs9",
        "outputId": "4c7266af-33d3-4aab-8483-dacd6069d0e0"
      },
      "outputs": [
        {
          "output_type": "stream",
          "name": "stdout",
          "text": [
            "<class 'pandas.core.frame.DataFrame'>\n",
            "RangeIndex: 541 entries, 0 to 540\n",
            "Data columns (total 45 columns):\n",
            " #   Column                  Non-Null Count  Dtype  \n",
            "---  ------                  --------------  -----  \n",
            " 0   Sl. No                  541 non-null    int64  \n",
            " 1   Patient File No.        541 non-null    int64  \n",
            " 2   PCOS (Y/N)              541 non-null    int64  \n",
            " 3    Age (yrs)              541 non-null    int64  \n",
            " 4   Weight (Kg)             541 non-null    float64\n",
            " 5   Height(Cm)              541 non-null    float64\n",
            " 6   BMI                     541 non-null    float64\n",
            " 7   Blood Group             541 non-null    int64  \n",
            " 8   Pulse rate(bpm)         541 non-null    int64  \n",
            " 9   RR (breaths/min)        541 non-null    int64  \n",
            " 10  Hb(g/dl)                541 non-null    float64\n",
            " 11  Cycle(R/I)              541 non-null    int64  \n",
            " 12  Cycle length(days)      541 non-null    int64  \n",
            " 13  Marraige Status (Yrs)   540 non-null    float64\n",
            " 14  Pregnant(Y/N)           541 non-null    int64  \n",
            " 15  No. of aborptions       541 non-null    int64  \n",
            " 16    I   beta-HCG(mIU/mL)  541 non-null    float64\n",
            " 17  II    beta-HCG(mIU/mL)  541 non-null    float64\n",
            " 18  FSH(mIU/mL)             541 non-null    float64\n",
            " 19  LH(mIU/mL)              541 non-null    float64\n",
            " 20  FSH/LH                  541 non-null    float64\n",
            " 21  Hip(inch)               541 non-null    int64  \n",
            " 22  Waist(inch)             541 non-null    int64  \n",
            " 23  Waist:Hip Ratio         541 non-null    float64\n",
            " 24  TSH (mIU/L)             541 non-null    float64\n",
            " 25  AMH(ng/mL)              541 non-null    object \n",
            " 26  PRL(ng/mL)              541 non-null    float64\n",
            " 27  Vit D3 (ng/mL)          541 non-null    float64\n",
            " 28  PRG(ng/mL)              541 non-null    float64\n",
            " 29  RBS(mg/dl)              541 non-null    float64\n",
            " 30  Weight gain(Y/N)        541 non-null    int64  \n",
            " 31  hair growth(Y/N)        541 non-null    int64  \n",
            " 32  Skin darkening (Y/N)    541 non-null    int64  \n",
            " 33  Hair loss(Y/N)          541 non-null    int64  \n",
            " 34  Pimples(Y/N)            541 non-null    int64  \n",
            " 35  Fast food (Y/N)         540 non-null    float64\n",
            " 36  Reg.Exercise(Y/N)       541 non-null    int64  \n",
            " 37  BP _Systolic (mmHg)     541 non-null    int64  \n",
            " 38  BP _Diastolic (mmHg)    541 non-null    int64  \n",
            " 39  Follicle No. (L)        541 non-null    int64  \n",
            " 40  Follicle No. (R)        541 non-null    int64  \n",
            " 41  Avg. F size (L) (mm)    541 non-null    float64\n",
            " 42  Avg. F size (R) (mm)    541 non-null    float64\n",
            " 43  Endometrium (mm)        541 non-null    float64\n",
            " 44  Unnamed: 44             2 non-null      object \n",
            "dtypes: float64(20), int64(23), object(2)\n",
            "memory usage: 190.3+ KB\n",
            "None\n",
            "           Sl. No  Patient File No.  PCOS (Y/N)   Age (yrs)  Weight (Kg)  \\\n",
            "count  541.000000        541.000000  541.000000  541.000000   541.000000   \n",
            "mean   271.000000        271.000000    0.327172   31.430684    59.637153   \n",
            "std    156.317519        156.317519    0.469615    5.411006    11.028287   \n",
            "min      1.000000          1.000000    0.000000   20.000000    31.000000   \n",
            "25%    136.000000        136.000000    0.000000   28.000000    52.000000   \n",
            "50%    271.000000        271.000000    0.000000   31.000000    59.000000   \n",
            "75%    406.000000        406.000000    1.000000   35.000000    65.000000   \n",
            "max    541.000000        541.000000    1.000000   48.000000   108.000000   \n",
            "\n",
            "       Height(Cm)          BMI  Blood Group  Pulse rate(bpm)   \\\n",
            "count   541.000000  541.000000   541.000000        541.000000   \n",
            "mean    156.484835   24.313124    13.802218         73.247689   \n",
            "std       6.033545    4.051122     1.840812          4.430285   \n",
            "min     137.000000   12.400000    11.000000         13.000000   \n",
            "25%     152.000000   21.700000    13.000000         72.000000   \n",
            "50%     156.000000   24.200000    14.000000         72.000000   \n",
            "75%     160.000000   26.600000    15.000000         74.000000   \n",
            "max     180.000000   38.900000    18.000000         82.000000   \n",
            "\n",
            "       RR (breaths/min)  ...  Pimples(Y/N)  Fast food (Y/N)  \\\n",
            "count        541.000000  ...    541.000000       540.000000   \n",
            "mean          19.243993  ...      0.489834         0.514815   \n",
            "std            1.688629  ...      0.500359         0.500244   \n",
            "min           16.000000  ...      0.000000         0.000000   \n",
            "25%           18.000000  ...      0.000000         0.000000   \n",
            "50%           18.000000  ...      0.000000         1.000000   \n",
            "75%           20.000000  ...      1.000000         1.000000   \n",
            "max           28.000000  ...      1.000000         1.000000   \n",
            "\n",
            "       Reg.Exercise(Y/N)  BP _Systolic (mmHg)  BP _Diastolic (mmHg)  \\\n",
            "count         541.000000           541.000000            541.000000   \n",
            "mean            0.247689           114.661738             76.927911   \n",
            "std             0.432070             7.384556              5.574112   \n",
            "min             0.000000            12.000000              8.000000   \n",
            "25%             0.000000           110.000000             70.000000   \n",
            "50%             0.000000           110.000000             80.000000   \n",
            "75%             0.000000           120.000000             80.000000   \n",
            "max             1.000000           140.000000            100.000000   \n",
            "\n",
            "       Follicle No. (L)  Follicle No. (R)  Avg. F size (L) (mm)  \\\n",
            "count        541.000000        541.000000            541.000000   \n",
            "mean           6.129390          6.641405             15.018115   \n",
            "std            4.229294          4.436889              3.566839   \n",
            "min            0.000000          0.000000              0.000000   \n",
            "25%            3.000000          3.000000             13.000000   \n",
            "50%            5.000000          6.000000             15.000000   \n",
            "75%            9.000000         10.000000             18.000000   \n",
            "max           22.000000         20.000000             24.000000   \n",
            "\n",
            "       Avg. F size (R) (mm)  Endometrium (mm)  \n",
            "count            541.000000        541.000000  \n",
            "mean              15.451701          8.475915  \n",
            "std                3.318848          2.165381  \n",
            "min                0.000000          0.000000  \n",
            "25%               13.000000          7.000000  \n",
            "50%               16.000000          8.500000  \n",
            "75%               18.000000          9.800000  \n",
            "max               24.000000         18.000000  \n",
            "\n",
            "[8 rows x 43 columns]\n"
          ]
        }
      ],
      "source": [
        "import pandas as pd\n",
        "\n",
        "#loading the dataset:\n",
        "\n",
        "\n",
        "data  = pd.read_excel(\"/content/PCOS_data_without_infertility.xlsx\", sheet_name=\"Full_new\")\n",
        "\n",
        "#print(data.head())\n",
        "print(data.info())\n",
        "print(data.describe())"
      ]
    },
    {
      "cell_type": "markdown",
      "source": [
        "# Data Preprocessing\n"
      ],
      "metadata": {
        "id": "c_3m0OmOsoQk"
      }
    },
    {
      "cell_type": "code",
      "source": [
        "#finding missing value containing row for fast food column\n",
        "missing_rows = data[data['Fast food (Y/N)' ].isna()]\n",
        "print (missing_rows);\n",
        "\n"
      ],
      "metadata": {
        "colab": {
          "base_uri": "https://localhost:8080/"
        },
        "id": "z7jXCZXChVi8",
        "outputId": "5fd37cbb-0187-455c-f112-407ca4846198"
      },
      "execution_count": 45,
      "outputs": [
        {
          "output_type": "stream",
          "name": "stdout",
          "text": [
            "     Sl. No  Patient File No.  PCOS (Y/N)   Age (yrs)  Weight (Kg)  \\\n",
            "156     157               157           0          27         53.2   \n",
            "\n",
            "     Height(Cm)    BMI  Blood Group  Pulse rate(bpm)   RR (breaths/min)  ...  \\\n",
            "156        158.0  21.3           13                72                22  ...   \n",
            "\n",
            "     Fast food (Y/N)  Reg.Exercise(Y/N)  BP _Systolic (mmHg)  \\\n",
            "156              NaN                  1                  120   \n",
            "\n",
            "     BP _Diastolic (mmHg)  Follicle No. (L)  Follicle No. (R)  \\\n",
            "156                    70                 5                 7   \n",
            "\n",
            "     Avg. F size (L) (mm)  Avg. F size (R) (mm)  Endometrium (mm)  Unnamed: 44  \n",
            "156                  11.0                  13.0              11.0          NaN  \n",
            "\n",
            "[1 rows x 45 columns]\n"
          ]
        }
      ]
    },
    {
      "cell_type": "code",
      "source": [
        "#filling missing value with a vaue based on other parameters, here based on bmi\n",
        "data['Fast food (Y/N)'] = data['Fast food (Y/N)'].fillna(0);"
      ],
      "metadata": {
        "id": "yqnEa21friH0"
      },
      "execution_count": 46,
      "outputs": []
    },
    {
      "cell_type": "code",
      "source": [
        "#remove irrelevant columns\n",
        "data.drop(['Sl. No', 'Patient File No.', 'Unnamed: 44'], axis=1, inplace=True)\n"
      ],
      "metadata": {
        "id": "3hSEFLyVsO2Y"
      },
      "execution_count": 47,
      "outputs": []
    },
    {
      "cell_type": "code",
      "source": [
        "print(data.info())\n"
      ],
      "metadata": {
        "colab": {
          "base_uri": "https://localhost:8080/"
        },
        "id": "6ET46vm6LMFk",
        "outputId": "498c716c-181f-42c6-c36a-90c75f22bbde"
      },
      "execution_count": 48,
      "outputs": [
        {
          "output_type": "stream",
          "name": "stdout",
          "text": [
            "<class 'pandas.core.frame.DataFrame'>\n",
            "RangeIndex: 541 entries, 0 to 540\n",
            "Data columns (total 42 columns):\n",
            " #   Column                  Non-Null Count  Dtype  \n",
            "---  ------                  --------------  -----  \n",
            " 0   PCOS (Y/N)              541 non-null    int64  \n",
            " 1    Age (yrs)              541 non-null    int64  \n",
            " 2   Weight (Kg)             541 non-null    float64\n",
            " 3   Height(Cm)              541 non-null    float64\n",
            " 4   BMI                     541 non-null    float64\n",
            " 5   Blood Group             541 non-null    int64  \n",
            " 6   Pulse rate(bpm)         541 non-null    int64  \n",
            " 7   RR (breaths/min)        541 non-null    int64  \n",
            " 8   Hb(g/dl)                541 non-null    float64\n",
            " 9   Cycle(R/I)              541 non-null    int64  \n",
            " 10  Cycle length(days)      541 non-null    int64  \n",
            " 11  Marraige Status (Yrs)   540 non-null    float64\n",
            " 12  Pregnant(Y/N)           541 non-null    int64  \n",
            " 13  No. of aborptions       541 non-null    int64  \n",
            " 14    I   beta-HCG(mIU/mL)  541 non-null    float64\n",
            " 15  II    beta-HCG(mIU/mL)  541 non-null    float64\n",
            " 16  FSH(mIU/mL)             541 non-null    float64\n",
            " 17  LH(mIU/mL)              541 non-null    float64\n",
            " 18  FSH/LH                  541 non-null    float64\n",
            " 19  Hip(inch)               541 non-null    int64  \n",
            " 20  Waist(inch)             541 non-null    int64  \n",
            " 21  Waist:Hip Ratio         541 non-null    float64\n",
            " 22  TSH (mIU/L)             541 non-null    float64\n",
            " 23  AMH(ng/mL)              541 non-null    object \n",
            " 24  PRL(ng/mL)              541 non-null    float64\n",
            " 25  Vit D3 (ng/mL)          541 non-null    float64\n",
            " 26  PRG(ng/mL)              541 non-null    float64\n",
            " 27  RBS(mg/dl)              541 non-null    float64\n",
            " 28  Weight gain(Y/N)        541 non-null    int64  \n",
            " 29  hair growth(Y/N)        541 non-null    int64  \n",
            " 30  Skin darkening (Y/N)    541 non-null    int64  \n",
            " 31  Hair loss(Y/N)          541 non-null    int64  \n",
            " 32  Pimples(Y/N)            541 non-null    int64  \n",
            " 33  Fast food (Y/N)         541 non-null    float64\n",
            " 34  Reg.Exercise(Y/N)       541 non-null    int64  \n",
            " 35  BP _Systolic (mmHg)     541 non-null    int64  \n",
            " 36  BP _Diastolic (mmHg)    541 non-null    int64  \n",
            " 37  Follicle No. (L)        541 non-null    int64  \n",
            " 38  Follicle No. (R)        541 non-null    int64  \n",
            " 39  Avg. F size (L) (mm)    541 non-null    float64\n",
            " 40  Avg. F size (R) (mm)    541 non-null    float64\n",
            " 41  Endometrium (mm)        541 non-null    float64\n",
            "dtypes: float64(20), int64(21), object(1)\n",
            "memory usage: 177.6+ KB\n",
            "None\n"
          ]
        }
      ]
    },
    {
      "cell_type": "markdown",
      "source": [],
      "metadata": {
        "id": "ob5Ew2QXlCH7"
      }
    },
    {
      "cell_type": "code",
      "source": [
        "print(data.dtypes)"
      ],
      "metadata": {
        "colab": {
          "base_uri": "https://localhost:8080/"
        },
        "id": "IGLkKK3WQGt2",
        "outputId": "c5bea3b9-3908-41b3-97fc-190129cea19e"
      },
      "execution_count": 49,
      "outputs": [
        {
          "output_type": "stream",
          "name": "stdout",
          "text": [
            "PCOS (Y/N)                  int64\n",
            " Age (yrs)                  int64\n",
            "Weight (Kg)               float64\n",
            "Height(Cm)                float64\n",
            "BMI                       float64\n",
            "Blood Group                 int64\n",
            "Pulse rate(bpm)             int64\n",
            "RR (breaths/min)            int64\n",
            "Hb(g/dl)                  float64\n",
            "Cycle(R/I)                  int64\n",
            "Cycle length(days)          int64\n",
            "Marraige Status (Yrs)     float64\n",
            "Pregnant(Y/N)               int64\n",
            "No. of aborptions           int64\n",
            "  I   beta-HCG(mIU/mL)    float64\n",
            "II    beta-HCG(mIU/mL)    float64\n",
            "FSH(mIU/mL)               float64\n",
            "LH(mIU/mL)                float64\n",
            "FSH/LH                    float64\n",
            "Hip(inch)                   int64\n",
            "Waist(inch)                 int64\n",
            "Waist:Hip Ratio           float64\n",
            "TSH (mIU/L)               float64\n",
            "AMH(ng/mL)                 object\n",
            "PRL(ng/mL)                float64\n",
            "Vit D3 (ng/mL)            float64\n",
            "PRG(ng/mL)                float64\n",
            "RBS(mg/dl)                float64\n",
            "Weight gain(Y/N)            int64\n",
            "hair growth(Y/N)            int64\n",
            "Skin darkening (Y/N)        int64\n",
            "Hair loss(Y/N)              int64\n",
            "Pimples(Y/N)                int64\n",
            "Fast food (Y/N)           float64\n",
            "Reg.Exercise(Y/N)           int64\n",
            "BP _Systolic (mmHg)         int64\n",
            "BP _Diastolic (mmHg)        int64\n",
            "Follicle No. (L)            int64\n",
            "Follicle No. (R)            int64\n",
            "Avg. F size (L) (mm)      float64\n",
            "Avg. F size (R) (mm)      float64\n",
            "Endometrium (mm)          float64\n",
            "dtype: object\n"
          ]
        }
      ]
    },
    {
      "cell_type": "code",
      "source": [
        "#since here one column is showing object datatype we convert it to float64 before scaling the data\n",
        "\n",
        "data['AMH(ng/mL)'] = pd.to_numeric(data['AMH(ng/mL)'], errors='coerce')\n",
        "\n",
        "print(data['AMH(ng/mL)'])\n",
        "\n"
      ],
      "metadata": {
        "colab": {
          "base_uri": "https://localhost:8080/"
        },
        "id": "YDD44NiSQHUO",
        "outputId": "d3d168ce-ec44-4a2d-8b5a-3d149d23e04a"
      },
      "execution_count": 50,
      "outputs": [
        {
          "output_type": "stream",
          "name": "stdout",
          "text": [
            "0       2.07\n",
            "1       1.53\n",
            "2       6.63\n",
            "3       1.22\n",
            "4       2.26\n",
            "       ...  \n",
            "536     1.70\n",
            "537     5.60\n",
            "538     3.70\n",
            "539     5.20\n",
            "540    20.00\n",
            "Name: AMH(ng/mL), Length: 541, dtype: float64\n"
          ]
        }
      ]
    },
    {
      "cell_type": "code",
      "source": [
        "#defining features(X) and target (y)\n",
        "X = data.drop('PCOS (Y/N)', axis=1)\n",
        "y = data['PCOS (Y/N)']\n",
        "\n",
        "print(X.head())\n",
        "print(y.head())"
      ],
      "metadata": {
        "colab": {
          "base_uri": "https://localhost:8080/"
        },
        "id": "amm5Co1TQbea",
        "outputId": "80a92672-cc26-47d5-b0f0-a3d99b0ed400"
      },
      "execution_count": 51,
      "outputs": [
        {
          "output_type": "stream",
          "name": "stdout",
          "text": [
            "    Age (yrs)  Weight (Kg)  Height(Cm)    BMI  Blood Group  Pulse rate(bpm)   \\\n",
            "0          28         44.6        152.0  19.3           15                78   \n",
            "1          36         65.0        161.5  24.9           15                74   \n",
            "2          33         68.8        165.0  25.3           11                72   \n",
            "3          37         65.0        148.0  29.7           13                72   \n",
            "4          25         52.0        161.0  20.1           11                72   \n",
            "\n",
            "   RR (breaths/min)  Hb(g/dl)  Cycle(R/I)  Cycle length(days)  ...  \\\n",
            "0                22     10.48           2                   5  ...   \n",
            "1                20     11.70           2                   5  ...   \n",
            "2                18     11.80           2                   5  ...   \n",
            "3                20     12.00           2                   5  ...   \n",
            "4                18     10.00           2                   5  ...   \n",
            "\n",
            "   Pimples(Y/N)  Fast food (Y/N)  Reg.Exercise(Y/N)  BP _Systolic (mmHg)  \\\n",
            "0             0              1.0                  0                  110   \n",
            "1             0              0.0                  0                  120   \n",
            "2             1              1.0                  0                  120   \n",
            "3             0              0.0                  0                  120   \n",
            "4             0              0.0                  0                  120   \n",
            "\n",
            "   BP _Diastolic (mmHg)  Follicle No. (L)  Follicle No. (R)  \\\n",
            "0                    80                 3                 3   \n",
            "1                    70                 3                 5   \n",
            "2                    80                13                15   \n",
            "3                    70                 2                 2   \n",
            "4                    80                 3                 4   \n",
            "\n",
            "   Avg. F size (L) (mm)  Avg. F size (R) (mm)  Endometrium (mm)  \n",
            "0                  18.0                  18.0               8.5  \n",
            "1                  15.0                  14.0               3.7  \n",
            "2                  18.0                  20.0              10.0  \n",
            "3                  15.0                  14.0               7.5  \n",
            "4                  16.0                  14.0               7.0  \n",
            "\n",
            "[5 rows x 41 columns]\n",
            "0    0\n",
            "1    0\n",
            "2    1\n",
            "3    0\n",
            "4    0\n",
            "Name: PCOS (Y/N), dtype: int64\n"
          ]
        }
      ]
    },
    {
      "cell_type": "code",
      "source": [
        "from sklearn.model_selection import train_test_split\n",
        "X_train, X_test, y_train, y_test = train_test_split(\n",
        "    X, y, test_size=0.2, random_state=42\n",
        ")\n"
      ],
      "metadata": {
        "id": "wTru2Tp5Ro1d"
      },
      "execution_count": 52,
      "outputs": []
    },
    {
      "cell_type": "code",
      "source": [
        "print(y_train.count())\n",
        "print(y_test.count())"
      ],
      "metadata": {
        "colab": {
          "base_uri": "https://localhost:8080/"
        },
        "id": "4po3pakjSQof",
        "outputId": "02fb8f5d-a592-4a7e-9cec-4d9ca37c20cd"
      },
      "execution_count": 53,
      "outputs": [
        {
          "output_type": "stream",
          "name": "stdout",
          "text": [
            "432\n",
            "109\n"
          ]
        }
      ]
    },
    {
      "cell_type": "code",
      "source": [
        "#Feature Scaling\n",
        "from sklearn.preprocessing import StandardScaler\n",
        "from sklearn.impute import SimpleImputer\n",
        "\n",
        "scaler = StandardScaler()\n",
        "X_train_scaled = scaler.fit_transform(X_train)\n",
        "X_test_scaled = scaler.transform(X_test)\n",
        "\n",
        "\n",
        "\n",
        "imputer = SimpleImputer(strategy='mean')\n",
        "X_train_scaled = imputer.fit_transform(X_train_scaled)\n",
        "X_test_scaled = imputer.fit_transform(X_test_scaled)"
      ],
      "metadata": {
        "id": "LRUG5RT2Sgm9"
      },
      "execution_count": 57,
      "outputs": []
    },
    {
      "cell_type": "markdown",
      "source": [
        "\n",
        "# Build and train predictive models:\n"
      ],
      "metadata": {
        "id": "I7d8RWQ6br-F"
      }
    },
    {
      "cell_type": "markdown",
      "source": [
        "Logistic Regression"
      ],
      "metadata": {
        "id": "hFr9-ulxb46M"
      }
    },
    {
      "cell_type": "code",
      "source": [
        "from sklearn.linear_model import LogisticRegression\n",
        "lr_model = LogisticRegression(max_iter=1000)\n",
        "lr_model.fit(X_train_scaled, y_train)\n",
        "y_pred_lr = lr_model.predict(X_test_scaled)\n"
      ],
      "metadata": {
        "id": "pHppQyvRZoKN"
      },
      "execution_count": 58,
      "outputs": []
    },
    {
      "cell_type": "markdown",
      "source": [
        "Random Forest Classifier"
      ],
      "metadata": {
        "id": "AsRH1VFxdhRX"
      }
    },
    {
      "cell_type": "code",
      "source": [
        "from sklearn.ensemble import RandomForestClassifier\n",
        "rf_model = RandomForestClassifier(n_estimators=100, random_state=42)\n",
        "rf_model.fit(X_train, y_train)\n",
        "y_pred_rf = rf_model.predict(X_test)\n",
        "\n"
      ],
      "metadata": {
        "id": "6wxIIBmSaXbz"
      },
      "execution_count": 59,
      "outputs": []
    },
    {
      "cell_type": "markdown",
      "source": [
        "# Evaluation of performance"
      ],
      "metadata": {
        "id": "asV5Y-0ldtcg"
      }
    },
    {
      "cell_type": "markdown",
      "source": [
        "Logistic Regression Evaluation"
      ],
      "metadata": {
        "id": "6BHPokm3eP9g"
      }
    },
    {
      "cell_type": "code",
      "source": [
        "from sklearn.metrics import confusion_matrix, classification_report, accuracy_score\n",
        "print(\"Logistic Regression Accuracy:\", accuracy_score(y_test, y_pred_lr))\n",
        "print(\"Classification Report (Logistic Regression):\")\n",
        "print(classification_report(y_test, y_pred_lr))\n",
        "print(\"Confusion Matrix (Logistic Regression):\")\n",
        "print(confusion_matrix(y_test, y_pred_lr))\n"
      ],
      "metadata": {
        "colab": {
          "base_uri": "https://localhost:8080/"
        },
        "id": "rSwH8mxZanzj",
        "outputId": "435e20c9-6024-41f8-95b3-eb539eedfa8c"
      },
      "execution_count": 60,
      "outputs": [
        {
          "output_type": "stream",
          "name": "stdout",
          "text": [
            "Logistic Regression Accuracy: 0.8532110091743119\n",
            "Classification Report (Logistic Regression):\n",
            "              precision    recall  f1-score   support\n",
            "\n",
            "           0       0.86      0.95      0.90        77\n",
            "           1       0.83      0.62      0.71        32\n",
            "\n",
            "    accuracy                           0.85       109\n",
            "   macro avg       0.85      0.79      0.81       109\n",
            "weighted avg       0.85      0.85      0.85       109\n",
            "\n",
            "Confusion Matrix (Logistic Regression):\n",
            "[[73  4]\n",
            " [12 20]]\n"
          ]
        }
      ]
    },
    {
      "cell_type": "markdown",
      "source": [
        "Random Forest Evaluation"
      ],
      "metadata": {
        "id": "z7Y6TOiZeXq2"
      }
    },
    {
      "cell_type": "code",
      "source": [
        "print(\"Random Forest Accuracy:\", accuracy_score(y_test, y_pred_rf))\n",
        "print(\"Classification Report (Random Forest):\")\n",
        "print(classification_report(y_test, y_pred_rf))\n",
        "print(\"Confusion Matrix (Random Forest):\")\n",
        "print(confusion_matrix(y_test, y_pred_rf))\n"
      ],
      "metadata": {
        "colab": {
          "base_uri": "https://localhost:8080/"
        },
        "id": "QhXlWrKAeGAP",
        "outputId": "d6868e84-c572-49b7-c87f-1cdad0cb929b"
      },
      "execution_count": 61,
      "outputs": [
        {
          "output_type": "stream",
          "name": "stdout",
          "text": [
            "Random Forest Accuracy: 0.8807339449541285\n",
            "Classification Report (Random Forest):\n",
            "              precision    recall  f1-score   support\n",
            "\n",
            "           0       0.90      0.94      0.92        77\n",
            "           1       0.83      0.75      0.79        32\n",
            "\n",
            "    accuracy                           0.88       109\n",
            "   macro avg       0.86      0.84      0.85       109\n",
            "weighted avg       0.88      0.88      0.88       109\n",
            "\n",
            "Confusion Matrix (Random Forest):\n",
            "[[72  5]\n",
            " [ 8 24]]\n"
          ]
        }
      ]
    }
  ]
}